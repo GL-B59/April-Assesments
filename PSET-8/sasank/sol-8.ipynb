{
 "cells": [
  {
   "cell_type": "code",
   "execution_count": 2,
   "id": "140df6e6",
   "metadata": {},
   "outputs": [
    {
     "name": "stdout",
     "output_type": "stream",
     "text": [
      "Enter some text: Hello, how are you today?\n",
      "Updated text: HEllO, hOw ArE yOU tOdAy?\n"
     ]
    }
   ],
   "source": [
    "# Ask the user to enter some text\n",
    "usr_inp = input(\"Enter some text: \")\n",
    "\n",
    "# Replace vowels with their uppercase versions\n",
    "usr_inp = usr_inp.replace(\"a\", \"A\").replace(\"e\", \"E\").replace(\"i\", \"I\").replace(\"o\", \"O\").replace(\"u\", \"U\")\n",
    "\n",
    "# Print the updated text\n",
    "print(\"Updated text: \" + usr_inp)\n"
   ]
  }
 ],
 "metadata": {
  "kernelspec": {
   "display_name": "Python 3 (ipykernel)",
   "language": "python",
   "name": "python3"
  },
  "language_info": {
   "codemirror_mode": {
    "name": "ipython",
    "version": 3
   },
   "file_extension": ".py",
   "mimetype": "text/x-python",
   "name": "python",
   "nbconvert_exporter": "python",
   "pygments_lexer": "ipython3",
   "version": "3.9.13"
  }
 },
 "nbformat": 4,
 "nbformat_minor": 5
}
