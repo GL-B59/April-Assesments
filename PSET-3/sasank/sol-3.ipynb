{
 "cells": [
  {
   "cell_type": "code",
   "execution_count": 4,
   "id": "cbdc5b05",
   "metadata": {},
   "outputs": [
    {
     "name": "stdout",
     "output_type": "stream",
     "text": [
      "Enter your full name:     sasank tanguturi\n",
      "First Name: sasank, First Character Index: 0, Last Character Index: 5\n",
      "Last Name: tanguturi, First Character Index: 7, Last Character Index: 15\n"
     ]
    }
   ],
   "source": [
    "# Get the full name as input from the user and remove whitespace\n",
    "full_name = input(\"Enter your full name: \").strip()\n",
    "\n",
    "# Find the index of the first space in the name\n",
    "first_space_index = full_name.index(\" \")\n",
    "\n",
    "# Find the index of the last character of the first name and the first character of the last name\n",
    "last_char_first_name_index = first_space_index - 1\n",
    "first_char_last_name_index = first_space_index + 1\n",
    "\n",
    "# Find the index of the last character of the last name\n",
    "last_char_last_name_index = len(full_name) - 1\n",
    "\n",
    "# Remove any whitespace from the first and last names\n",
    "first_name = full_name[:first_space_index].strip()\n",
    "last_name = full_name[first_space_index+1:].strip()\n",
    "\n",
    "# Print the first and last names, along with the indices of the first and last characters\n",
    "print(\"First Name: \" + first_name + \", First Character Index: \" + str(0) + \", Last Character Index: \" + str(last_char_first_name_index))\n",
    "print(\"Last Name: \" + last_name + \", First Character Index: \" + str(first_char_last_name_index) + \", Last Character Index: \" + str(last_char_last_name_index))\n"
   ]
  }
 ],
 "metadata": {
  "kernelspec": {
   "display_name": "Python 3 (ipykernel)",
   "language": "python",
   "name": "python3"
  },
  "language_info": {
   "codemirror_mode": {
    "name": "ipython",
    "version": 3
   },
   "file_extension": ".py",
   "mimetype": "text/x-python",
   "name": "python",
   "nbconvert_exporter": "python",
   "pygments_lexer": "ipython3",
   "version": "3.9.13"
  }
 },
 "nbformat": 4,
 "nbformat_minor": 5
}
