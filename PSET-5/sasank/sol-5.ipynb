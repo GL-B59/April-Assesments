{
 "cells": [
  {
   "cell_type": "code",
   "execution_count": null,
   "id": "bc9a335c",
   "metadata": {},
   "outputs": [],
   "source": [
    "#P5\n",
    "total_apple = 10\n",
    "apple_eaten = 4\n",
    "\n",
    "#Replacing the concatenation with a f string. \n",
    "\n",
    "print(f'There are {total_apple - apple_eaten} left in the basket.')"
   ]
  }
 ],
 "metadata": {
  "kernelspec": {
   "display_name": "Python 3 (ipykernel)",
   "language": "python",
   "name": "python3"
  },
  "language_info": {
   "codemirror_mode": {
    "name": "ipython",
    "version": 3
   },
   "file_extension": ".py",
   "mimetype": "text/x-python",
   "name": "python",
   "nbconvert_exporter": "python",
   "pygments_lexer": "ipython3",
   "version": "3.9.13"
  }
 },
 "nbformat": 4,
 "nbformat_minor": 5
}
