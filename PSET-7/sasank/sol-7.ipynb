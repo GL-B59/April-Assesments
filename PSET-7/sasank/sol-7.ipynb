{
 "cells": [
  {
   "cell_type": "code",
   "execution_count": 4,
   "id": "fe2207f3",
   "metadata": {},
   "outputs": [
    {
     "name": "stdout",
     "output_type": "stream",
     "text": [
      "Enter some text: hello this the solution to problem set seven\n",
      "Leetspeak: #3ll0 7#15 7#3 50l(_)710n 70 pr0I3l3/\\/\\ 537 53v3n\n"
     ]
    }
   ],
   "source": [
    "# Ask the user to enter some text\n",
    "text = input(\"Enter some text: \")\n",
    "\n",
    "# Replace characters with their leetspeak equivalents\n",
    "text = text.replace(\"A\", \"4\").replace(\"B\", \"I3\").replace(\"E\", \"3\").replace(\"I\", \"1\").replace(\"H\", \"#\").replace(\"M\", \"/\\\\/\\\\\").replace(\"O\", \"0\").replace(\"S\", \"5\").replace(\"T\", \"7\").replace(\"U\", \"(_)\").replace(\"a\", \"4\").replace(\"b\", \"I3\").replace(\"e\", \"3\").replace(\"i\", \"1\").replace(\"h\", \"#\").replace(\"m\", \"/\\\\/\\\\\").replace(\"o\", \"0\").replace(\"s\", \"5\").replace(\"t\", \"7\").replace(\"u\", \"(_)\")\n",
    "\n",
    "# Print the leetspeak text\n",
    "print(\"Leetspeak: \" + text)\n"
   ]
  },
  {
   "cell_type": "code",
   "execution_count": null,
   "id": "41e36f06",
   "metadata": {},
   "outputs": [],
   "source": []
  }
 ],
 "metadata": {
  "kernelspec": {
   "display_name": "Python 3 (ipykernel)",
   "language": "python",
   "name": "python3"
  },
  "language_info": {
   "codemirror_mode": {
    "name": "ipython",
    "version": 3
   },
   "file_extension": ".py",
   "mimetype": "text/x-python",
   "name": "python",
   "nbconvert_exporter": "python",
   "pygments_lexer": "ipython3",
   "version": "3.9.13"
  }
 },
 "nbformat": 4,
 "nbformat_minor": 5
}
