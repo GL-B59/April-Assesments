{
 "cells": [
  {
   "cell_type": "code",
   "execution_count": 5,
   "id": "d3e8fd47",
   "metadata": {},
   "outputs": [
    {
     "name": "stdout",
     "output_type": "stream",
     "text": [
      "Enter a string: napalm\n",
      "Substring 'pin' not found in the input string.\n"
     ]
    }
   ],
   "source": [
    "print(\"Substring 'pin' found in the input string.\" if \"pin\" in input(\"Enter a string: \") else \"Substring 'pin' not found in the input string.\")\n",
    "\n"
   ]
  },
  {
   "cell_type": "markdown",
   "id": "85a219d6",
   "metadata": {},
   "source": [
    "we have put the entire conditional expression inside the print() function. This way, the print() function is guaranteed to always have something to print, either the message \"Substring 'pin' found in the input string.\" or \"Substring 'pin' not found in the input string.\" depending on whether the substring \"pin\" is present in the input string or not."
   ]
  }
 ],
 "metadata": {
  "kernelspec": {
   "display_name": "Python 3 (ipykernel)",
   "language": "python",
   "name": "python3"
  },
  "language_info": {
   "codemirror_mode": {
    "name": "ipython",
    "version": 3
   },
   "file_extension": ".py",
   "mimetype": "text/x-python",
   "name": "python",
   "nbconvert_exporter": "python",
   "pygments_lexer": "ipython3",
   "version": "3.9.13"
  }
 },
 "nbformat": 4,
 "nbformat_minor": 5
}
