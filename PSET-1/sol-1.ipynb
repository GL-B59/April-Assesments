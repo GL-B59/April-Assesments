{
 "cells": [
  {
   "cell_type": "code",
   "execution_count": 19,
   "id": "cff28937",
   "metadata": {},
   "outputs": [
    {
     "name": "stdout",
     "output_type": "stream",
     "text": [
      "pin\n"
     ]
    }
   ],
   "source": [
    "words = ['spinach', 'unpinch', 'hoping', 'pink', 'ping', 'respin', 'legspin']\n",
    "\n",
    "# find all substrings of length 3 that appear in all the words\n",
    "common_substrings = set()\n",
    "for i in range(len(words[0])-2):\n",
    "    substring = words[0][i:i+3]\n",
    "    if all(substring in word for word in words[1:]):\n",
    "        common_substrings.add(substring)\n",
    "\n",
    "# get the first common substring found\n",
    "result = next(iter(common_substrings))\n",
    "\n",
    "\n",
    "print (result)"
   ]
  },
  {
   "cell_type": "markdown",
   "id": "be4ec39e",
   "metadata": {},
   "source": [
    "The code first creates a list of the given words. It then loops over all possible substrings of length 3 that can be extracted from the first word in the list. For each substring, it checks if the substring appears in all the other words in the list. If it does, the substring is added to a set common_substrings.\n",
    "\n",
    "Finally, the code retrieves the first common substring found by calling next on the common_substrings set, and assigns it to the variable result.\n",
    "\n",
    "This code is less complex than the previous versions because it uses only a single loop and does not use any list comprehensions or methods other than add, all, next, and iter. It also uses more explicit variable names and comments to help beginners understand what the code is doing."
   ]
  }
 ],
 "metadata": {
  "kernelspec": {
   "display_name": "Python 3 (ipykernel)",
   "language": "python",
   "name": "python3"
  },
  "language_info": {
   "codemirror_mode": {
    "name": "ipython",
    "version": 3
   },
   "file_extension": ".py",
   "mimetype": "text/x-python",
   "name": "python",
   "nbconvert_exporter": "python",
   "pygments_lexer": "ipython3",
   "version": "3.9.13"
  }
 },
 "nbformat": 4,
 "nbformat_minor": 5
}
