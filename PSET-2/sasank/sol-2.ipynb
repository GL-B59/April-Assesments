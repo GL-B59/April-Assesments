{
 "cells": [
  {
   "cell_type": "code",
   "execution_count": 7,
   "id": "7d646881",
   "metadata": {},
   "outputs": [
    {
     "name": "stdout",
     "output_type": "stream",
     "text": [
      "Enter a string: arrrr\n",
      "Enter a substring to search: de\n",
      "Substring 'de' not found in the input string.\n"
     ]
    }
   ],
   "source": [
    "input_str = input(\"Enter a string: \")\n",
    "sub_str = input(\"Enter a substring to search: \")\n",
    "print(f\"Substring '{sub_str}' found in the input string.\" if input_str.find(sub_str) != -1 else f\"Substring '{sub_str}' not found in the input string.\")\n",
    "\n"
   ]
  },
  {
   "cell_type": "markdown",
   "id": "c6a79d3d",
   "metadata": {},
   "source": [
    "We use the input() function to prompt the user to enter the input string and the substring to search for. We use the := operator to assign the value returned by input() to the variables input_str and sub_str, respectively.\n",
    "We call the find() method on the input_str object to search for the sub_str substring within it. If sub_str is found in input_str, find() returns the starting index of the substring. If sub_str is not found, find() returns -1.\n",
    "We use a conditional expression to check if the result of input_str.find(sub_str) is not equal to -1. If it is, we print the message \"Substring '{sub_str}' found in the input string.\" using print() function. Otherwise, we print the message \"Substring '{sub_str}' not found in the input string.\".\n",
    "We use an f-string to include the value of sub_str in the output messages."
   ]
  }
 ],
 "metadata": {
  "kernelspec": {
   "display_name": "Python 3 (ipykernel)",
   "language": "python",
   "name": "python3"
  },
  "language_info": {
   "codemirror_mode": {
    "name": "ipython",
    "version": 3
   },
   "file_extension": ".py",
   "mimetype": "text/x-python",
   "name": "python",
   "nbconvert_exporter": "python",
   "pygments_lexer": "ipython3",
   "version": "3.9.13"
  }
 },
 "nbformat": 4,
 "nbformat_minor": 5
}
