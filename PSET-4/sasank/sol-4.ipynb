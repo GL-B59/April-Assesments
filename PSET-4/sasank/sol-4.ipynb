{
 "cells": [
  {
   "cell_type": "code",
   "execution_count": 1,
   "id": "9501984f",
   "metadata": {},
   "outputs": [
    {
     "name": "stdout",
     "output_type": "stream",
     "text": [
      "There are 6 left in the basket.\n"
     ]
    }
   ],
   "source": [
    "#P4\n",
    "#Yes, there is a bug present in the code. \n",
    "#In Python, you cannot concatenate a string with an integer using the + operator. \n",
    "#To fix this, you need to convert the integer variables to strings before concatenating them with the other strings. \n",
    "#Also, you need to enclose the calculation total_apple - apple_eaten in parentheses to ensure that it is \n",
    "#evaluated before being concatenated to the surrounding strings.\n",
    "#This code will correctly calculate the number of apples left in the basket (6 in this case) and concatenate \n",
    "#it to the surrounding string\n",
    "\n",
    "total_apple = 10\n",
    "apple_eaten = 4\n",
    "\n",
    "print('There are ' + str(total_apple - apple_eaten) + ' left in the basket.')"
   ]
  }
 ],
 "metadata": {
  "kernelspec": {
   "display_name": "Python 3 (ipykernel)",
   "language": "python",
   "name": "python3"
  },
  "language_info": {
   "codemirror_mode": {
    "name": "ipython",
    "version": 3
   },
   "file_extension": ".py",
   "mimetype": "text/x-python",
   "name": "python",
   "nbconvert_exporter": "python",
   "pygments_lexer": "ipython3",
   "version": "3.9.13"
  }
 },
 "nbformat": 4,
 "nbformat_minor": 5
}
